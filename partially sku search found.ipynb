{
 "cells": [
  {
   "cell_type": "code",
   "execution_count": 56,
   "metadata": {},
   "outputs": [
    {
     "name": "stdout",
     "output_type": "stream",
     "text": [
      "partially sku search found \n"
     ]
    }
   ],
   "source": [
    "print(\"partially sku search found \")"
   ]
  },
  {
   "cell_type": "code",
   "execution_count": 46,
   "metadata": {},
   "outputs": [],
   "source": [
    "import requests\n",
    "import time \n",
    "import win32gui, win32con\n",
    "from selenium import webdriver\n",
    "from selenium.webdriver.support.ui import WebDriverWait\n",
    "from selenium.webdriver import ActionChains"
   ]
  },
  {
   "cell_type": "code",
   "execution_count": 47,
   "metadata": {
    "scrolled": false
   },
   "outputs": [],
   "source": [
    "driver = webdriver.Chrome('C:\\Program Files (x86)\\Google\\Chrome\\Application\\chromedriver.exe')\n",
    "\n",
    "url = \"https://nishita.waverfid.group/#/\"\n",
    "\n",
    "hwnd = win32gui.GetForegroundWindow()\n",
    "win32gui.ShowWindow(hwnd, win32con.SW_MAXIMIZE)\n",
    "\n",
    "#open the url and enter the username and password\n",
    "driver.get(url)\n",
    "time.sleep(5)"
   ]
  },
  {
   "cell_type": "code",
   "execution_count": 48,
   "metadata": {},
   "outputs": [],
   "source": [
    "driver.find_element_by_name('email').send_keys('nishitaporiya@atyantik.com')\n",
    "driver.find_element_by_name('password').send_keys('atyantik@123')\n",
    "time.sleep(1)\n",
    "button = driver.find_element_by_css_selector('.input-group .btn')\n",
    "button.click()\n",
    "url = \"https://nishita.waverfid.group/#/dashboard\"\n",
    "time.sleep(5)"
   ]
  },
  {
   "cell_type": "code",
   "execution_count": 49,
   "metadata": {},
   "outputs": [
    {
     "name": "stdout",
     "output_type": "stream",
     "text": [
      "login Test case passed\n"
     ]
    }
   ],
   "source": [
    "if (driver.current_url == url):\n",
    "    print (\"login Test case passed\")\n",
    "else: \n",
    "    print(\"login is failed\")\n",
    "    time.sleep(5)\n"
   ]
  },
  {
   "cell_type": "code",
   "execution_count": 50,
   "metadata": {},
   "outputs": [
    {
     "name": "stdout",
     "output_type": "stream",
     "text": [
      "click on frame option\n"
     ]
    }
   ],
   "source": [
    " #click on frame module      \n",
    "driver.find_element_by_xpath(\"/html/body/div/div/div/div[3]/div/div/ul/li[1]/a\").click()\n",
    "time.sleep(4)\n",
    "print(\"click on frame option\")"
   ]
  },
  {
   "cell_type": "code",
   "execution_count": 51,
   "metadata": {},
   "outputs": [
    {
     "name": "stdout",
     "output_type": "stream",
     "text": [
      "click on search\n"
     ]
    }
   ],
   "source": [
    "  #click on search         \n",
    "driver.find_element_by_xpath(\"/html/body/div/div/div/div[3]/div/div[11]/section/div/div/a\").click()\n",
    "time.sleep(4)\n",
    "print(\"click on search\")"
   ]
  },
  {
   "cell_type": "code",
   "execution_count": 52,
   "metadata": {},
   "outputs": [
    {
     "name": "stdout",
     "output_type": "stream",
     "text": [
      "search via sku\n"
     ]
    }
   ],
   "source": [
    " #search via sku\n",
    "driver.find_element_by_name('sku').send_keys('E2005139721102211540725')\n",
    "time.sleep(2)\n",
    "print(\"search via sku\")"
   ]
  },
  {
   "cell_type": "code",
   "execution_count": 53,
   "metadata": {},
   "outputs": [
    {
     "name": "stdout",
     "output_type": "stream",
     "text": [
      "click on search button for results\n"
     ]
    }
   ],
   "source": [
    "  #click on search button for results        \n",
    "driver.find_element_by_xpath(\"/html/body/div[1]/div/div/div[3]/div/div[11]/section/div/div/form/div/div[1]/button[1]\").click()\n",
    "time.sleep(4)\n",
    "print(\"click on search button for results\")\n"
   ]
  },
  {
   "cell_type": "code",
   "execution_count": 54,
   "metadata": {},
   "outputs": [],
   "source": [
    "url = \"https://nishita.waverfid.group/#/frames\"\n",
    "time.sleep(5)"
   ]
  },
  {
   "cell_type": "code",
   "execution_count": 55,
   "metadata": {},
   "outputs": [
    {
     "name": "stdout",
     "output_type": "stream",
     "text": [
      "sku partial match Test case passed\n"
     ]
    }
   ],
   "source": [
    "if (driver.current_url == url):\n",
    "    print (\"sku partial match Test case passed\")\n",
    "else: \n",
    "    print(\"sku partial match is failed\")\n",
    "    time.sleep(5)"
   ]
  }
 ],
 "metadata": {
  "kernelspec": {
   "display_name": "Python 3",
   "language": "python",
   "name": "python3"
  },
  "language_info": {
   "codemirror_mode": {
    "name": "ipython",
    "version": 3
   },
   "file_extension": ".py",
   "mimetype": "text/x-python",
   "name": "python",
   "nbconvert_exporter": "python",
   "pygments_lexer": "ipython3",
   "version": "3.7.3"
  }
 },
 "nbformat": 4,
 "nbformat_minor": 2
}
