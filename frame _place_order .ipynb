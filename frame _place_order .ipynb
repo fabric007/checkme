{
 "cells": [
  {
   "cell_type": "code",
   "execution_count": 50,
   "metadata": {},
   "outputs": [],
   "source": [
    "import requests\n",
    "import time \n",
    "import win32gui, win32con\n",
    "import pyautogui\n",
    "import webbrowser\n",
    "import requests\n",
    "import urllib.request\n",
    "import unittest\n",
    "import random\n",
    "import math\n",
    "from selenium.webdriver.support.select import Select\n",
    "from bs4 import BeautifulSoup\n",
    "from selenium import webdriver\n",
    "from selenium.webdriver.support.ui import WebDriverWait\n",
    "from selenium.webdriver import ActionChains\n",
    "from collections import Counter"
   ]
  },
  {
   "cell_type": "code",
   "execution_count": 51,
   "metadata": {},
   "outputs": [],
   "source": [
    "driver = webdriver.Chrome('C:\\Program Files (x86)\\Google\\Chrome\\Application\\chromedriver.exe')\n",
    "\n",
    "time.sleep(5)\n",
    "\n",
    "hwnd = win32gui.GetForegroundWindow()\n",
    "win32gui.ShowWindow(hwnd, win32con.SW_MAXIMIZE)\n",
    "\n",
    "url = \"https://nishita.waverfid.group/#/\"\n",
    "\n",
    "#open the url and enter the username and password\n",
    "driver.get(url)\n",
    "time.sleep(5)"
   ]
  },
  {
   "cell_type": "code",
   "execution_count": 52,
   "metadata": {},
   "outputs": [],
   "source": [
    "driver.find_element_by_name('email').send_keys('nishitaporiya@atyantik.com')\n",
    "driver.find_element_by_name('password').send_keys('atyantik@123')\n",
    "\n",
    "button = driver.find_element_by_css_selector('.input-group .btn')\n",
    "button.click()\n",
    "\n",
    "url = \"https://nishita.waverfid.group/#/dashboard\"\n",
    "time.sleep(5)"
   ]
  },
  {
   "cell_type": "code",
   "execution_count": 53,
   "metadata": {},
   "outputs": [
    {
     "name": "stdout",
     "output_type": "stream",
     "text": [
      "login Test case passed\n"
     ]
    }
   ],
   "source": [
    "if (driver.current_url == url):\n",
    "    print (\"login Test case passed\")\n",
    "else: \n",
    "    print(\"login is failed\")\n",
    "    time.sleep(5)\n"
   ]
  },
  {
   "cell_type": "code",
   "execution_count": 54,
   "metadata": {},
   "outputs": [
    {
     "name": "stdout",
     "output_type": "stream",
     "text": [
      "click on frame option\n"
     ]
    }
   ],
   "source": [
    " #click on frame module      \n",
    "driver.find_element_by_xpath(\"/html/body/div/div/div/div[3]/div/div/ul/li[1]/a\").click()\n",
    "time.sleep(4)\n",
    "print(\"click on frame option\")\n"
   ]
  },
  {
   "cell_type": "code",
   "execution_count": 55,
   "metadata": {},
   "outputs": [
    {
     "name": "stdout",
     "output_type": "stream",
     "text": [
      "click on search\n"
     ]
    }
   ],
   "source": [
    "  #click on search         \n",
    "driver.find_element_by_xpath(\"/html/body/div/div/div/div[3]/div/div[11]/section/div/div/a\").click()\n",
    "time.sleep(4)\n",
    "print(\"click on search\")"
   ]
  },
  {
   "cell_type": "code",
   "execution_count": 56,
   "metadata": {},
   "outputs": [],
   "source": [
    " #search by mfg\n",
    "driver.find_element_by_name('manufacturer').send_keys('fastrack')\n",
    "time.sleep(2)"
   ]
  },
  {
   "cell_type": "code",
   "execution_count": 57,
   "metadata": {},
   "outputs": [
    {
     "name": "stdout",
     "output_type": "stream",
     "text": [
      "click on search button for results\n"
     ]
    }
   ],
   "source": [
    "  #click on search button for results        \n",
    "driver.find_element_by_xpath(\"/html/body/div[1]/div/div/div[3]/div/div[11]/section/div/div/form/div/div[1]/button[1]\").click()\n",
    "time.sleep(4)\n",
    "print(\"click on search button for results\")"
   ]
  },
  {
   "cell_type": "code",
   "execution_count": 58,
   "metadata": {},
   "outputs": [
    {
     "name": "stdout",
     "output_type": "stream",
     "text": [
      "1st frame of fastrack \n"
     ]
    }
   ],
   "source": [
    "\n",
    "driver.find_element_by_xpath(\"/html/body/div/div/div/div[3]/div/div[2]/div[3]/div/div/div[2]/table/tbody/tr[1]/td[1]/div/div\").click()\n",
    "time.sleep(4)\n",
    "print(\"1st frame of fastrack \")"
   ]
  },
  {
   "cell_type": "code",
   "execution_count": 59,
   "metadata": {},
   "outputs": [
    {
     "name": "stdout",
     "output_type": "stream",
     "text": [
      "2nd frame of fastrack\n"
     ]
    }
   ],
   "source": [
    "driver.find_element_by_xpath(\"/html/body/div/div/div/div[3]/div/div[2]/div[3]/div/div/div[2]/table/tbody/tr[2]/td[1]/div/div\").click()\n",
    "time.sleep(8)\n",
    "print(\"2nd frame of fastrack\")"
   ]
  },
  {
   "cell_type": "code",
   "execution_count": 60,
   "metadata": {},
   "outputs": [
    {
     "name": "stdout",
     "output_type": "stream",
     "text": [
      "click on review order\n"
     ]
    }
   ],
   "source": [
    "driver.find_element_by_xpath(\"/html/body/div/div/div/div[3]/div/div[2]/div[4]/div[2]/button\").click()\n",
    "time.sleep(4)\n",
    "print(\"click on review order\")"
   ]
  },
  {
   "cell_type": "code",
   "execution_count": 61,
   "metadata": {},
   "outputs": [
    {
     "name": "stdout",
     "output_type": "stream",
     "text": [
      "add quantity:12\n"
     ]
    }
   ],
   "source": [
    "\n",
    "#add quantity:12\n",
    "driver.find_element_by_name(\"order[0].subOrder[0].qty\").clear( )\n",
    "time.sleep(5)\n",
    "driver.find_element_by_name(\"order[0].subOrder[0].qty\").send_keys('12')\n",
    "time.sleep(4)\n",
    "print(\"add quantity:12\")"
   ]
  },
  {
   "cell_type": "code",
   "execution_count": 62,
   "metadata": {},
   "outputs": [
    {
     "name": "stdout",
     "output_type": "stream",
     "text": [
      "add cost:100.9900\n"
     ]
    }
   ],
   "source": [
    "#add cost \n",
    "driver.find_element_by_name(\"order[0].subOrder[0].cost\").clear( )\n",
    "time.sleep(5)\n",
    "driver.find_element_by_name(\"order[0].subOrder[0].cost\").send_keys('100.9900')\n",
    "print(\"add cost:100.9900\")"
   ]
  },
  {
   "cell_type": "code",
   "execution_count": 63,
   "metadata": {},
   "outputs": [
    {
     "name": "stdout",
     "output_type": "stream",
     "text": [
      "add quantity:10\n"
     ]
    }
   ],
   "source": [
    "#add quantity:10\n",
    "driver.find_element_by_name(\"order[0].subOrder[1].qty\").clear( )\n",
    "time.sleep(5)\n",
    "driver.find_element_by_name(\"order[0].subOrder[1].qty\").send_keys('10')\n",
    "time.sleep(4)\n",
    "print(\"add quantity:10\")"
   ]
  },
  {
   "cell_type": "code",
   "execution_count": 64,
   "metadata": {},
   "outputs": [
    {
     "name": "stdout",
     "output_type": "stream",
     "text": [
      "add cost:01000.99\n"
     ]
    }
   ],
   "source": [
    "#add cost \n",
    "driver.find_element_by_name(\"order[0].subOrder[1].cost\").clear( )\n",
    "time.sleep(5)\n",
    "driver.find_element_by_name(\"order[0].subOrder[1].cost\").send_keys('01000.99232')\n",
    "print(\"add cost:01000.99\")"
   ]
  },
  {
   "cell_type": "code",
   "execution_count": 65,
   "metadata": {
    "scrolled": true
   },
   "outputs": [
    {
     "name": "stdout",
     "output_type": "stream",
     "text": [
      "select location:2-surat\n"
     ]
    }
   ],
   "source": [
    "#select location \n",
    "driver.find_element_by_name(\"order[0].location_id\").click()\n",
    "time.sleep(2)   \n",
    "obj=Select (driver.find_element_by_name(\"order[0].location_id\"))\n",
    "obj.select_by_value(\"2\")\n",
    "print(\"select location:2-surat\")"
   ]
  },
  {
   "cell_type": "code",
   "execution_count": 66,
   "metadata": {},
   "outputs": [
    {
     "name": "stdout",
     "output_type": "stream",
     "text": [
      "11221.80\n",
      "test case is pass\n"
     ]
    }
   ],
   "source": [
    "time.sleep(2)\n",
    "text=driver.find_element_by_xpath(\"/html/body/div/div/div/div[3]/div/div[3]/form/div/div/div/div/div[1]/table/tbody/tr[3]/td[7]/div/p\").text\n",
    "print(text)\n",
    "\n",
    "if driver.find_element_by_xpath(\"/html/body/div/div/div/div[3]/div/div[3]/form/div/div/div/div/div[1]/table/tbody/tr[3]/td[7]/div/p\").text:\n",
    "    print(\"test case is pass\")\n",
    "    round(11221.80,2)              \n",
    "else:\n",
    "    print(\"Test Failed\")\n",
    "    #return false\n",
    "         "
   ]
  },
  {
   "cell_type": "code",
   "execution_count": 67,
   "metadata": {},
   "outputs": [
    {
     "name": "stdout",
     "output_type": "stream",
     "text": [
      "confirm order\n"
     ]
    }
   ],
   "source": [
    "#Confirm Order\n",
    "driver.find_element_by_xpath(\"/html/body/div/div/div/div[3]/div/div[3]/form/div/div/div/div/div[2]/button[1]\").click()\n",
    "time.sleep(5) \n",
    "print(\"confirm order\")"
   ]
  },
  {
   "cell_type": "code",
   "execution_count": null,
   "metadata": {},
   "outputs": [],
   "source": []
  },
  {
   "cell_type": "code",
   "execution_count": null,
   "metadata": {},
   "outputs": [],
   "source": []
  }
 ],
 "metadata": {
  "kernelspec": {
   "display_name": "Python 3",
   "language": "python",
   "name": "python3"
  },
  "language_info": {
   "codemirror_mode": {
    "name": "ipython",
    "version": 3
   },
   "file_extension": ".py",
   "mimetype": "text/x-python",
   "name": "python",
   "nbconvert_exporter": "python",
   "pygments_lexer": "ipython3",
   "version": "3.7.3"
  }
 },
 "nbformat": 4,
 "nbformat_minor": 2
}
